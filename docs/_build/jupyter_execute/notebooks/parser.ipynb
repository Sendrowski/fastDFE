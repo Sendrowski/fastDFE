{
 "cells": [
  {
   "cell_type": "markdown",
   "metadata": {
    "collapsed": false
   },
   "source": [
    "# Parsing SFS from VCF file\n",
    "\n",
    "fastDFE provides parser utilities that enable convenient parsing of frequency spectra from VCF files. By default, {class}`~fastdfe.parser.Parser` looks at the ``AA`` tag in the VCF file's info field to retrieve the correct polarization. Sites for which this tag is not well-defined are by default included (see {attr}`~fastdfe.parser.Parser.skip_not_polarized`). Note that non-polarized frequency spectra provide little information on the distribution of beneficial mutations.\n",
    "\n",
    "We also might want to stratify the SFS by some property of the sites, such as synonymous vs. non-synonymous mutations. This is done by specifying a list of stratifications to the parser. In this example, we will stratify the SFS by synonymous vs. non-synonymous mutations using a VCF file for `Betula spp.`."
   ]
  },
  {
   "cell_type": "code",
   "execution_count": null,
   "metadata": {
    "ExecuteTime": {
     "start_time": "2023-05-26T10:41:38.103800Z"
    },
    "collapsed": false
   },
   "outputs": [
    {
     "name": "stderr",
     "output_type": "stream",
     "text": [
      "Counting sites: 2439037it [02:16, 17821.79it/s]\n",
      "\u001b[32mINFO:fastdfe:Using stratification: [neutral, selected].\u001b[0m\n",
      "\u001b[32mINFO:fastdfe:Starting to parse.\u001b[0m\n",
      "Processing sites:  79%|███████▉  | 1935472/2439037 [12:56<03:15, 2581.94it/s]"
     ]
    }
   ],
   "source": [
    "from fastdfe import Parser, DegeneracyStratification, Spectra\n",
    "\n",
    "# instantiate parser\n",
    "p = Parser(\n",
    "    n=10,\n",
    "    vcf=\"../../resources/genome/betula/all.vcf.gz\",\n",
    "    stratifications=[DegeneracyStratification()]\n",
    ")\n",
    "\n",
    "# parse SFS\n",
    "spectra: Spectra = p.parse()"
   ]
  },
  {
   "cell_type": "code",
   "execution_count": null,
   "metadata": {
    "collapsed": false
   },
   "outputs": [],
   "source": [
    "# visualize SFS\n",
    "spectra.plot();"
   ]
  },
  {
   "cell_type": "markdown",
   "metadata": {
    "collapsed": false
   },
   "source": [
    "fastDFE relies on VCF info tags to determine the degeneracy of a site but this behaviour can be customized (cf. {class}`~fastdfe.parser.DegeneracyStratification`)."
   ]
  },
  {
   "cell_type": "markdown",
   "metadata": {
    "collapsed": false
   },
   "source": [
    "We can also increase the number of stratifications by specifying a list of stratifications. In this example, we will stratify the SFS by synonymous vs. non-synonymous mutations and by base transitions."
   ]
  },
  {
   "cell_type": "code",
   "execution_count": null,
   "metadata": {
    "collapsed": false
   },
   "outputs": [],
   "source": [
    "from fastdfe import AncestralBaseStratification\n",
    "\n",
    "# instantiate parser\n",
    "p = Parser(\n",
    "    n=10,\n",
    "    vcf=\"../../resources/genome/betula/all.vcf.gz\",\n",
    "    stratifications=[DegeneracyStratification(), AncestralBaseStratification()]\n",
    ")\n",
    "\n",
    "# parse SFS\n",
    "spectra: Spectra = p.parse()"
   ]
  },
  {
   "cell_type": "code",
   "execution_count": null,
   "metadata": {
    "collapsed": false
   },
   "outputs": [],
   "source": [
    "# visualize SFS\n",
    "spectra.plot();"
   ]
  },
  {
   "cell_type": "markdown",
   "metadata": {
    "collapsed": false
   },
   "source": [
    "Note that fastDFE required the ancestral state of sites to be determined. {class}`~fastdfe.parser.Parser` does this by looking at the ``AA`` field but this can be customized. We admit there is currently no easy method for determining the ancestral states directly from a VCF file and are working on implementing one. You can also define custom Stratifications by extending {class}`~fastdfe.parser.Stratification`)."
   ]
  }
 ],
 "metadata": {
  "kernelspec": {
   "display_name": "Python 3",
   "language": "python",
   "name": "python3"
  },
  "language_info": {
   "codemirror_mode": {
    "name": "ipython",
    "version": 2
   },
   "file_extension": ".py",
   "mimetype": "text/x-python",
   "name": "python",
   "nbconvert_exporter": "python",
   "pygments_lexer": "ipython2",
   "version": "2.7.6"
  }
 },
 "nbformat": 4,
 "nbformat_minor": 0
}