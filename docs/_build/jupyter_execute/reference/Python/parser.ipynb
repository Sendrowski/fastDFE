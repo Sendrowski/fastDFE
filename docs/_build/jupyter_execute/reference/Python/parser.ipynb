{
 "cells": [
  {
   "cell_type": "markdown",
   "metadata": {
    "collapsed": false
   },
   "source": [
    "# VCF Parsing\n",
    "## Introduction\n",
    "fastDFE provides parser utilities that enable convenient parsing of frequency spectra from VCF files. By default, {class}`~fastdfe.parser.Parser` looks at the ``AA`` tag in the VCF file's info field to retrieve the correct polarization. Sites for which this tag is not well-defined are by default included (see {attr}`~fastdfe.parser.Parser.skip_not_polarized`). Note that non-polarized frequency spectra provide little information on the distribution of beneficial mutations, however.\n",
    "\n",
    "We might also want to stratify the SFS by some site properties, such as synonymy. This is done by passing stratifications to the parser. In this example, we will stratify the SFS by synonymous and non-synonymous mutations using a VCF file for ``Betula spp.``"
   ]
  },
  {
   "cell_type": "code",
   "execution_count": 3,
   "metadata": {
    "ExecuteTime": {
     "end_time": "2023-09-24T16:37:15.557503Z",
     "start_time": "2023-09-24T16:37:15.533356Z"
    },
    "collapsed": false
   },
   "outputs": [],
   "source": [
    "import fastdfe as fd\n",
    "\n",
    "# url to the GitHub repository of fastDFE\n",
    "url = \"https://github.com/Sendrowski/fastDFE/blob/dev/\""
   ]
  },
  {
   "cell_type": "code",
   "execution_count": 4,
   "metadata": {
    "ExecuteTime": {
     "end_time": "2023-09-24T16:39:25.646244Z",
     "start_time": "2023-09-24T16:37:15.550499Z"
    },
    "collapsed": false
   },
   "outputs": [
    {
     "name": "stderr",
     "output_type": "stream",
     "text": [
      "\u001b[32mINFO:fastdfe.Parser: Using stratification: [neutral, selected].\u001b[0m\n",
      "\u001b[32mINFO:fastdfe.Parser: Loading VCF file\u001b[0m\n",
      "\u001b[32mINFO:fastdfe: Using cached file at /var/folders/w6/18ktl5312413jw46btlxrh59fzxvt4/T/211142f65e7c.biallelic.subset.50000.vcf.gz\u001b[0m\n",
      "\u001b[32mINFO:fastdfe.Parser: Loading GFF file\u001b[0m\n",
      "\u001b[32mINFO:fastdfe: Using cached file at /var/folders/w6/18ktl5312413jw46btlxrh59fzxvt4/T/2d03158a125f.genome.gff.gz\u001b[0m\n",
      "\u001b[32mINFO:fastdfe.Parser: Loading FASTA file\u001b[0m\n",
      "\u001b[32mINFO:fastdfe: Using cached file at /var/folders/w6/18ktl5312413jw46btlxrh59fzxvt4/T/eb1f2b2b0185.genome.subset.1000.fasta.gz\u001b[0m\n",
      "\u001b[32mINFO:fastdfe: Using cached file at /var/folders/w6/18ktl5312413jw46btlxrh59fzxvt4/T/211142f65e7c.biallelic.subset.50000.vcf.gz\u001b[0m\n",
      "Counting sites: 50000it [00:01, 32702.15it/s]\n",
      "Processing sites: 100%|██████████| 50000/50000 [02:07<00:00, 392.84it/s]\n",
      "\u001b[32mINFO:fastdfe.PolyAllelicFiltration: Filtered out 0 sites.\u001b[0m\n",
      "\u001b[32mINFO:fastdfe.DegeneracyStratification: Number of sites with valid type: 14084\u001b[0m\n",
      "\u001b[32mINFO:fastdfe.DegeneracyAnnotation: Annotated 18906 sites.\u001b[0m\n",
      "\u001b[32mINFO:fastdfe.MaximumParsimonyAncestralAnnotation: Annotated 50000 sites.\u001b[0m\n",
      "\u001b[32mINFO:fastdfe.Parser: Included 14084 out of 50000 sites in total from the VCF file.\u001b[0m\n"
     ]
    }
   ],
   "source": [
    "# instantiate parser\n",
    "p = fd.Parser(\n",
    "    n=8,\n",
    "    vcf=url + \"resources/genome/betula/biallelic.subset.50000.vcf.gz?raw=true\",\n",
    "    fasta=url + \"resources/genome/betula/genome.subset.1000.fasta.gz?raw=true\",\n",
    "    gff=url + \"resources/genome/betula/genome.gff.gz?raw=true\",\n",
    "    annotations=[\n",
    "        fd.DegeneracyAnnotation(),\n",
    "        fd.MaximumParsimonyAncestralAnnotation()  # only partly recommended\n",
    "    ],\n",
    "    stratifications=[fd.DegeneracyStratification()]\n",
    ")\n",
    "\n",
    "# parse SFS\n",
    "spectra: fd.Spectra = p.parse()"
   ]
  },
  {
   "cell_type": "code",
   "execution_count": 5,
   "metadata": {
    "ExecuteTime": {
     "end_time": "2023-09-24T16:39:25.835016Z",
     "start_time": "2023-09-24T16:39:25.646885Z"
    },
    "collapsed": false
   },
   "outputs": [
    {
     "data": {
      "text/plain": [
       "<Figure size 512x384 with 0 Axes>"
      ]
     },
     "metadata": {},
     "output_type": "display_data"
    },
    {
     "data": {
      "image/png": "[encoded data removed]",
      "text/plain": [
       "<Figure size 512x384 with 1 Axes>"
      ]
     },
     "metadata": {},
     "output_type": "display_data"
    }
   ],
   "source": [
    "# visualize SFS\n",
    "spectra.plot();"
   ]
  },
  {
   "cell_type": "markdown",
   "metadata": {
    "collapsed": false
   },
   "source": [
    "fastDFE relies here on VCF info tags to determine the degeneracy of a site but this behavior can be customized (cf. {class}`~fastdfe.parser.DegeneracyStratification`)."
   ]
  },
  {
   "cell_type": "markdown",
   "metadata": {
    "collapsed": false
   },
   "source": [
    "## Stratifications\n",
    "We can use also several stratifications in tandem by specifying a list of stratifications. In this example, we will stratify the SFS by synonymy as well as base transitions type. The resulting spectra can be fed directly into fastDFE's inference routines. See {mod}`~fastdfe.parser` module for a complete list of available stratifications."
   ]
  },
  {
   "cell_type": "code",
   "execution_count": 6,
   "metadata": {
    "ExecuteTime": {
     "end_time": "2023-09-24T16:41:37.004905Z",
     "start_time": "2023-09-24T16:39:25.840484Z"
    },
    "collapsed": false
   },
   "outputs": [
    {
     "name": "stderr",
     "output_type": "stream",
     "text": [
      "\u001b[32mINFO:fastdfe.Parser: Using stratification: [neutral, selected].[A, C, G, T].\u001b[0m\n",
      "\u001b[32mINFO:fastdfe.Parser: Loading VCF file\u001b[0m\n",
      "\u001b[32mINFO:fastdfe: Using cached file at /var/folders/w6/18ktl5312413jw46btlxrh59fzxvt4/T/211142f65e7c.biallelic.subset.50000.vcf.gz\u001b[0m\n",
      "\u001b[32mINFO:fastdfe.Parser: Loading GFF file\u001b[0m\n",
      "\u001b[32mINFO:fastdfe: Using cached file at /var/folders/w6/18ktl5312413jw46btlxrh59fzxvt4/T/2d03158a125f.genome.gff.gz\u001b[0m\n",
      "\u001b[32mINFO:fastdfe.Parser: Loading FASTA file\u001b[0m\n",
      "\u001b[32mINFO:fastdfe: Using cached file at /var/folders/w6/18ktl5312413jw46btlxrh59fzxvt4/T/eb1f2b2b0185.genome.subset.1000.fasta.gz\u001b[0m\n",
      "\u001b[32mINFO:fastdfe: Using cached file at /var/folders/w6/18ktl5312413jw46btlxrh59fzxvt4/T/211142f65e7c.biallelic.subset.50000.vcf.gz\u001b[0m\n",
      "Counting sites: 50000it [00:01, 32319.40it/s]\n",
      "Processing sites: 100%|██████████| 50000/50000 [02:08<00:00, 389.27it/s]\n",
      "\u001b[32mINFO:fastdfe.PolyAllelicFiltration: Filtered out 0 sites.\u001b[0m\n",
      "\u001b[32mINFO:fastdfe.DegeneracyStratification: Number of sites with valid type: 14084\u001b[0m\n",
      "\u001b[32mINFO:fastdfe.AncestralBaseStratification: Number of sites with valid type: 14084\u001b[0m\n",
      "\u001b[32mINFO:fastdfe.DegeneracyAnnotation: Annotated 18906 sites.\u001b[0m\n",
      "\u001b[32mINFO:fastdfe.MaximumParsimonyAncestralAnnotation: Annotated 50000 sites.\u001b[0m\n",
      "\u001b[32mINFO:fastdfe.Parser: Included 14084 out of 50000 sites in total from the VCF file.\u001b[0m\n"
     ]
    }
   ],
   "source": [
    "# instantiate parser\n",
    "p = fd.Parser(\n",
    "    n=10,\n",
    "    vcf=url + \"resources/genome/betula/biallelic.subset.50000.vcf.gz?raw=true\",\n",
    "    fasta=url + \"resources/genome/betula/genome.subset.1000.fasta.gz?raw=true\",\n",
    "    gff=url + \"resources/genome/betula/genome.gff.gz?raw=true\",\n",
    "    annotations=[\n",
    "        fd.DegeneracyAnnotation(),\n",
    "        fd.MaximumParsimonyAncestralAnnotation()  # only partly recommended\n",
    "    ],\n",
    "    stratifications=[\n",
    "        fd.DegeneracyStratification(),\n",
    "        fd.AncestralBaseStratification()\n",
    "    ]\n",
    ")\n",
    "\n",
    "# parse SFS\n",
    "spectra: fd.Spectra = p.parse()"
   ]
  },
  {
   "cell_type": "code",
   "execution_count": 7,
   "metadata": {
    "ExecuteTime": {
     "end_time": "2023-09-24T16:41:37.263616Z",
     "start_time": "2023-09-24T16:41:37.016780Z"
    },
    "collapsed": false
   },
   "outputs": [
    {
     "data": {
      "text/plain": [
       "<Figure size 512x384 with 0 Axes>"
      ]
     },
     "metadata": {},
     "output_type": "display_data"
    },
    {
     "data": {
      "image/png": "[encoded data removed]",
      "text/plain": [
       "<Figure size 512x384 with 1 Axes>"
      ]
     },
     "metadata": {},
     "output_type": "display_data"
    }
   ],
   "source": [
    "# visualize SFS\n",
    "spectra.plot();"
   ]
  },
  {
   "cell_type": "markdown",
   "metadata": {
    "collapsed": false
   },
   "source": [
    "Note that fastDFE requires the ancestral state of sites to be determined. The {class}`~fastdfe.parser.Parser` achieves this by examining the `AA` field, although this behavior can be customized.\n",
    "\n",
    "## Annotations\n",
    "fastDFE provides a number of annotations accessible directly during the parsing process. To annotate a VCF file directly, consider using the {class}`~fastdfe.annotation.Annotator` class.\n",
    "\n",
    "### Degeneracy Annotation\n",
    "{class}`~fastdfe.annotation.DegeneracyAnnotation` annotates the SFS by the degeneracy of the site. This annotation requires information from a FASTA and GFF file and is useful for stratifying the SFS by 0-fold and 4-fold degenerate sites which is what we often want to do when inferring the DFE (see {class}`~fastdfe.parser.DegeneracyStratification`).\n"
   ]
  },
  {
   "cell_type": "code",
   "execution_count": 8,
   "metadata": {
    "ExecuteTime": {
     "end_time": "2023-09-24T16:41:41.368558Z",
     "start_time": "2023-09-24T16:41:37.263363Z"
    },
    "collapsed": false
   },
   "outputs": [
    {
     "name": "stderr",
     "output_type": "stream",
     "text": [
      "\u001b[32mINFO:fastdfe.Annotator: Start annotating\u001b[0m\n",
      "\u001b[32mINFO:fastdfe.Annotator: Loading GFF file\u001b[0m\n",
      "\u001b[32mINFO:fastdfe: Using cached file at /var/folders/w6/18ktl5312413jw46btlxrh59fzxvt4/T/2d03158a125f.genome.gff.gz\u001b[0m\n",
      "\u001b[32mINFO:fastdfe.Annotator: Loading FASTA file\u001b[0m\n",
      "\u001b[32mINFO:fastdfe: Using cached file at /var/folders/w6/18ktl5312413jw46btlxrh59fzxvt4/T/eb1f2b2b0185.genome.subset.1000.fasta.gz\u001b[0m\n",
      "\u001b[32mINFO:fastdfe.Annotator: Loading VCF file\u001b[0m\n",
      "\u001b[32mINFO:fastdfe: Using cached file at /var/folders/w6/18ktl5312413jw46btlxrh59fzxvt4/T/7a41c74709e8.biallelic.subset.10000.vcf.gz\u001b[0m\n",
      "\u001b[32mINFO:fastdfe: Using cached file at /var/folders/w6/18ktl5312413jw46btlxrh59fzxvt4/T/7a41c74709e8.biallelic.subset.10000.vcf.gz\u001b[0m\n",
      "Counting sites: 10000it [00:00, 32111.27it/s]\n",
      "Processing sites: 100%|██████████| 10000/10000 [00:02<00:00, 3844.01it/s]\n",
      "\u001b[32mINFO:fastdfe.DegeneracyAnnotation: Annotated 3566 sites.\u001b[0m\n"
     ]
    }
   ],
   "source": [
    "# example for degeneracy annotation\n",
    "ann = fd.Annotator(\n",
    "    vcf=url + \"resources/genome/betula/biallelic.subset.10000.vcf.gz?raw=true\",\n",
    "    fasta=url + \"resources/genome/betula/genome.subset.1000.fasta.gz?raw=true\",\n",
    "    gff=url + \"resources/genome/betula/genome.gff.gz?raw=true\",\n",
    "    annotations=[fd.DegeneracyAnnotation()],\n",
    "    output=\"out/genome.deg.vcf.gz\"\n",
    ")\n",
    "\n",
    "ann.annotate()"
   ]
  },
  {
   "cell_type": "markdown",
   "metadata": {
    "collapsed": false
   },
   "source": [
    "### Ancestral Allele Annotation\n",
    "Currently, two ancestral allele annotations are available: {class}`~fastdfe.annotation.MaximumParsimonyAncestralAnnotation` and {class}`~fastdfe.annotation.MaximumLikelihoodAncestralAnnotation`. The former is straightforward but susceptible to errors, and only appropriate if no outgroup information is available. Some errors can be avoided by incorporating {class}`~fastdfe.filtration.DeviantOutgroupFiltration`. Alternatively, DFE inference can also be performed on folded spectra, but please note that this will yield less precise estimates. {class}`~fastdfe.annotation.MaximumLikelihoodAncestralAnnotation` is more sophisticated and requires one or several outgroup to be specified. Its underlying model is very similar to [EST-SFS](https://doi.org/10.1534/genetics.118.301120)."
   ]
  },
  {
   "cell_type": "code",
   "execution_count": 9,
   "metadata": {
    "ExecuteTime": {
     "end_time": "2023-09-24T16:42:33.725955Z",
     "start_time": "2023-09-24T16:41:41.380897Z"
    },
    "collapsed": false
   },
   "outputs": [
    {
     "name": "stderr",
     "output_type": "stream",
     "text": [
      "\u001b[32mINFO:fastdfe.Annotator: Start annotating\u001b[0m\n",
      "\u001b[32mINFO:fastdfe.Annotator: Loading VCF file\u001b[0m\n",
      "\u001b[32mINFO:fastdfe: Using cached file at /var/folders/w6/18ktl5312413jw46btlxrh59fzxvt4/T/d2a32f6ed097.biallelic.with_outgroups.subset.10000.vcf.gz\u001b[0m\n",
      "\u001b[32mINFO:fastdfe.Annotator: Loading VCF file\u001b[0m\n",
      "\u001b[32mINFO:fastdfe: Using cached file at /var/folders/w6/18ktl5312413jw46btlxrh59fzxvt4/T/d2a32f6ed097.biallelic.with_outgroups.subset.10000.vcf.gz\u001b[0m\n",
      "\u001b[32mINFO:fastdfe.MaximumLikelihoodAncestralAnnotation: Subsampling 15 ingroup haplotypes from 377 individuals in total.\u001b[0m\n",
      "\u001b[32mINFO:fastdfe.MaximumLikelihoodAncestralAnnotation: Using 2 outgroup samples (ERR2103730, ERR2103731).\u001b[0m\n",
      "\u001b[32mINFO:fastdfe: Using cached file at /var/folders/w6/18ktl5312413jw46btlxrh59fzxvt4/T/d2a32f6ed097.biallelic.with_outgroups.subset.10000.vcf.gz\u001b[0m\n",
      "Counting sites: 10000it [00:00, 32576.89it/s]\n",
      "Parsing sites: 100%|██████████| 10000/10000 [00:24<00:00, 411.04it/s]\n",
      "\u001b[32mINFO:fastdfe.MaximumLikelihoodAncestralAnnotation: Included 7041 sites for the inference.\u001b[0m\n",
      "Optimizing rates: 100%|██████████| 10/10 [00:02<00:00,  3.39it/s]\n",
      "Processing sites: 100%|██████████| 10000/10000 [00:24<00:00, 406.97it/s]\n",
      "\u001b[32mINFO:fastdfe.MaximumLikelihoodAncestralAnnotation: Annotated 10000 sites.\u001b[0m\n",
      "\u001b[32mINFO:fastdfe.MaximumLikelihoodAncestralAnnotation: There were 0 mismatches between the most likely ancestral allele and the ad-hoc ancestral allele annotation.\u001b[0m\n"
     ]
    }
   ],
   "source": [
    "# example for ancestral allele annotation with outgroups\n",
    "ann = fd.Annotator(\n",
    "    vcf=url + \"resources/genome/betula/biallelic.with_outgroups.subset.10000.vcf.gz?raw=true\",\n",
    "    annotations=[fd.MaximumLikelihoodAncestralAnnotation(\n",
    "        outgroups=[\"ERR2103730\", \"ERR2103731\"],\n",
    "        n_ingroups=15\n",
    "    )],\n",
    "    output=\"out/genome.aa.vcf.gz\"\n",
    ")\n",
    "\n",
    "ann.annotate()"
   ]
  },
  {
   "cell_type": "markdown",
   "metadata": {
    "collapsed": false
   },
   "source": [
    "## Filtrations\n",
    "fastDFE also offers a number of filtrations which can be accessed immediately while parsing. Alternatively, to filter a VCF file directly, use the {class}`~fastdfe.filtration.Filterer` class. Some useful filtrations include {class}`~fastdfe.filtration.DeviantOutgroupFiltration`, {class}`~fastdfe.filtration.CodingSequenceFiltration`, and {class}`~fastdfe.filtration.BiasedGCConversionFiltration`. For a complete list of available filtrations, refer to the API reference."
   ]
  },
  {
   "cell_type": "code",
   "execution_count": 11,
   "metadata": {
    "ExecuteTime": {
     "end_time": "2023-09-24T17:06:12.945517Z",
     "start_time": "2023-09-24T17:06:11.729168Z"
    },
    "collapsed": false
   },
   "outputs": [
    {
     "name": "stderr",
     "output_type": "stream",
     "text": [
      "\u001b[32mINFO:fastdfe.Filterer: Start filtering\u001b[0m\n",
      "\u001b[32mINFO:fastdfe.Filterer: Loading VCF file\u001b[0m\n",
      "\u001b[32mINFO:fastdfe: Using cached file at /var/folders/w6/18ktl5312413jw46btlxrh59fzxvt4/T/7a41c74709e8.biallelic.subset.10000.vcf.gz\u001b[0m\n",
      "\u001b[32mINFO:fastdfe: Using cached file at /var/folders/w6/18ktl5312413jw46btlxrh59fzxvt4/T/7a41c74709e8.biallelic.subset.10000.vcf.gz\u001b[0m\n",
      "Counting sites: 10000it [00:00, 32068.55it/s]\n",
      "Processing sites: 100%|██████████| 10000/10000 [00:00<00:00, 11466.39it/s]\n",
      "\u001b[32mINFO:fastdfe.BiasedGCConversionFiltration: Filtered out 7903 sites.\u001b[0m\n",
      "\u001b[32mINFO:fastdfe.Filterer: Filtered out 7903 of 10000 sites in total.\u001b[0m\n"
     ]
    }
   ],
   "source": [
    "# example for filtration\n",
    "f = fd.Filterer(\n",
    "    vcf=url + \"resources/genome/betula/biallelic.subset.10000.vcf.gz?raw=true\",\n",
    "    filtrations=[fd.BiasedGCConversionFiltration()],\n",
    "    output=\"out/genome.gc.vcf.gz\"\n",
    ")\n",
    "\n",
    "f.filter()"
   ]
  },
  {
   "cell_type": "markdown",
   "metadata": {
    "collapsed": false
   },
   "source": [
    "Note that all components can easily be customized by extending the corresponding base class."
   ]
  }
 ],
 "metadata": {
  "kernelspec": {
   "display_name": "Python 3",
   "language": "python",
   "name": "python3"
  },
  "language_info": {
   "codemirror_mode": {
    "name": "ipython",
    "version": 2
   },
   "file_extension": ".py",
   "mimetype": "text/x-python",
   "name": "python",
   "nbconvert_exporter": "python",
   "pygments_lexer": "ipython2",
   "version": "2.7.6"
  }
 },
 "nbformat": 4,
 "nbformat_minor": 0
}