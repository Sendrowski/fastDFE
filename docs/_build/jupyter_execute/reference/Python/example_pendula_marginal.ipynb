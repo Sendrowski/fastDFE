{
 "cells": [
  {
   "cell_type": "code",
   "execution_count": 7,
   "metadata": {
    "ExecuteTime": {
     "end_time": "2023-07-19T14:20:36.945744Z",
     "start_time": "2023-07-19T14:14:22.579061Z"
    },
    "collapsed": true
   },
   "outputs": [
    {
     "name": "stderr",
     "output_type": "stream",
     "text": [
      "Counting sites: 2439037it [00:43, 55635.67it/s]\n",
      "\u001b[32mINFO:fastdfe.Parser: Using stratification: [neutral, selected].[A, C, G, T].\u001b[0m\n",
      "\u001b[32mINFO:fastdfe.Parser: Starting to parse.\u001b[0m\n",
      "Processing sites: 100%|██████████| 2439037/2439037 [05:30<00:00, 7379.49it/s] \n",
      "\u001b[32mINFO:fastdfe.PolyAllelicFiltration: Filtered out 0 sites.\u001b[0m\n",
      "\u001b[32mINFO:fastdfe.DegeneracyStratification: Number of sites with valid type: 980934 / 2438327\u001b[0m\n",
      "\u001b[32mINFO:fastdfe.AncestralBaseStratification: Number of sites with valid type: 980934 / 981644\u001b[0m\n",
      "\u001b[32mINFO:fastdfe.Parser: Included 980934 out of 2439037 sites in total.\u001b[0m\n"
     ]
    }
   ],
   "source": [
    "import matplotlib.pyplot as plt\n",
    "import fastdfe as fd\n",
    "\n",
    "# instantiate parser\n",
    "p = fd.Parser(\n",
    "    n=10,\n",
    "    vcf=\"../../resources/genome/betula/all.vcf.gz\",\n",
    "    stratifications=[fd.DegeneracyStratification(), fd.AncestralBaseStratification()]\n",
    ")\n",
    "\n",
    "# parse SFS\n",
    "s: fd.Spectra = p.parse()\n",
    "\n",
    "# extract neutral and selected SFS\n",
    "neut = s['neutral.*'].merge_groups(1)\n",
    "sel = s['selected.*'].merge_groups(1)"
   ]
  },
  {
   "cell_type": "code",
   "execution_count": 8,
   "metadata": {
    "ExecuteTime": {
     "end_time": "2023-07-19T14:20:45.210689Z",
     "start_time": "2023-07-19T14:20:36.947846Z"
    },
    "collapsed": false
   },
   "outputs": [
    {
     "name": "stderr",
     "output_type": "stream",
     "text": [
      "\u001b[32mINFO:fastdfe.Discretization: Precomputing linear DFE-SFS transformation using midpoint integration.\u001b[0m\n",
      "\u001b[33mWARNING:fastdfe.Optimization: The MLE estimate is within 1% of the upper bound for {} and lower bound for {'all.S_d': -100000.0, 'all.b': 0.01, 'all.p_b': 0, 'all.S_b': 0.0001}, but this might be nothing to worry about.\u001b[0m\n",
      "\u001b[32mINFO:fastdfe.BaseInference: Successfully finished optimization after 10 iterations and 78 function evaluations, obtaining a log-likelihood of -31.429538741494866.\u001b[0m\n",
      "\u001b[32mINFO:fastdfe.BaseInference: Inferred parameters: {'all.S_d': -100000.0, 'all.b': 0.09250725380768925, 'all.p_b': 0.0, 'all.S_b': 0.00010003368718414257, 'all.eps': 0.007131399121042546}.\u001b[0m\n",
      "\u001b[32mINFO:fastdfe.Discretization: Precomputing linear DFE-SFS transformation using midpoint integration.\u001b[0m\n",
      "\u001b[33mWARNING:fastdfe.Optimization: The MLE estimate is within 1% of the upper bound for {} and lower bound for {'all.p_b': 0, 'all.S_b': 0.0001}, but this might be nothing to worry about.\u001b[0m\n",
      "\u001b[32mINFO:fastdfe.BaseInference: Successfully finished optimization after 48 iterations and 420 function evaluations, obtaining a log-likelihood of -31.781333903397154.\u001b[0m\n",
      "\u001b[32mINFO:fastdfe.BaseInference: Inferred parameters: {'all.S_d': -4680.964377262656, 'all.b': 0.18103245458802353, 'all.p_b': 0.0, 'all.S_b': 0.0016690592847306126, 'all.eps': 0.008521268228204374}.\u001b[0m\n",
      "\u001b[32mINFO:fastdfe.Discretization: Precomputing linear DFE-SFS transformation using midpoint integration.\u001b[0m\n",
      "\u001b[33mWARNING:fastdfe.Optimization: The MLE estimate is within 1% of the upper bound for {'all.S_d': -0.01, 'all.b': 10} and lower bound for {'all.S_b': 0.0001, 'all.eps': 0}, but this might be nothing to worry about.\u001b[0m\n",
      "\u001b[32mINFO:fastdfe.BaseInference: Successfully finished optimization after 70 iterations and 552 function evaluations, obtaining a log-likelihood of -39.34106087079692.\u001b[0m\n",
      "\u001b[32mINFO:fastdfe.BaseInference: Inferred parameters: {'all.S_d': -165.01922058474526, 'all.b': 10.0, 'all.p_b': 0.23938807176874125, 'all.S_b': 0.18076469877510834, 'all.eps': 0.0}.\u001b[0m\n",
      "\u001b[32mINFO:fastdfe.Discretization: Precomputing linear DFE-SFS transformation using midpoint integration.\u001b[0m\n",
      "\u001b[33mWARNING:fastdfe.Optimization: The MLE estimate is within 1% of the upper bound for {} and lower bound for {'all.S_d': -100000.0, 'all.S_b': 0.0001, 'all.eps': 0}, but this might be nothing to worry about.\u001b[0m\n",
      "\u001b[32mINFO:fastdfe.BaseInference: Successfully finished optimization after 53 iterations and 360 function evaluations, obtaining a log-likelihood of -39.58658201020549.\u001b[0m\n",
      "\u001b[32mINFO:fastdfe.BaseInference: Inferred parameters: {'all.S_d': -100000.0, 'all.b': 0.15428868835376694, 'all.p_b': 0.17278049460737993, 'all.S_b': 0.0001, 'all.eps': 0.0}.\u001b[0m\n",
      "Bootstrapping: 100%|██████████| 100/100 [00:01<00:00, 87.26it/s]\n",
      "Bootstrapping: 100%|██████████| 100/100 [00:00<00:00, 131.56it/s]\n",
      "Bootstrapping: 100%|██████████| 100/100 [00:01<00:00, 96.94it/s]\n",
      "Bootstrapping: 100%|██████████| 100/100 [00:01<00:00, 74.68it/s]\n",
      "\u001b[33mWARNING:fastdfe.BaseInference: 1 out of 100 bootstrap samples did not terminate normally during numerical optimization. The confidence intervals might thus be unreliable. Consider adjusting the optimization parameters (increasing `gtol` or `n_runs`) or decrease the number of optimized parameters.\u001b[0m\n"
     ]
    },
    {
     "data": {
      "text/plain": [
       "[              S_d         b       p_b     S_b       eps     alpha\n",
       " 0   -99999.999995  0.107708  0.070929  0.0001  0.006586  0.217027\n",
       " 1  -100000.000000  0.109729  0.078056  0.0001  0.006550  0.238850\n",
       " 2  -100000.000000  0.106905  0.075633  0.0001  0.009989  0.226993\n",
       " 3  -100000.000000  0.092369  0.000000  0.0001  0.007258  0.000000\n",
       " 4  -100000.000000  0.092633  0.000000  0.0001  0.007840  0.000000\n",
       " ..            ...       ...       ...     ...       ...       ...\n",
       " 95 -100000.000000  0.092453  0.000000  0.0001  0.006751  0.000000\n",
       " 96  -99999.999995  0.096245  0.018803  0.0001  0.007973  0.058274\n",
       " 97 -100000.000000  0.092126  0.000000  0.0001  0.006828  0.000000\n",
       " 98 -100000.000000  0.092910  0.000000  0.0001  0.007155  0.000000\n",
       " 99 -100000.000000  0.092115  0.000000  0.0001  0.007363  0.000000\n",
       " \n",
       " [100 rows x 6 columns],\n",
       "             S_d         b       p_b       S_b       eps     alpha\n",
       " 0  -4680.964377  0.181213  0.000000  0.001669  0.008718  0.000000\n",
       " 1  -4680.964381  0.184826  0.007134  0.000100  0.008475  0.036644\n",
       " 2  -4680.964377  0.180935  0.000000  0.001669  0.008442  0.000000\n",
       " 3  -4680.964377  0.180756  0.000000  0.001669  0.008772  0.000000\n",
       " 4  -4680.964377  0.181145  0.000000  0.001669  0.008300  0.000000\n",
       " ..          ...       ...       ...       ...       ...       ...\n",
       " 95 -4680.964367  0.190641  0.020606  0.001592  0.006240  0.114330\n",
       " 96 -4680.964377  0.181881  0.000000  0.001669  0.007890  0.000000\n",
       " 97 -4680.964377  0.180451  0.000000  0.001668  0.008380  0.000000\n",
       " 98 -4680.964377  0.181728  0.000000  0.001669  0.008656  0.000000\n",
       " 99 -4680.964377  0.180317  0.000000  0.001668  0.008479  0.000000\n",
       " \n",
       " [100 rows x 6 columns],\n",
       "            S_d          b       p_b       S_b      eps     alpha\n",
       " 0  -165.021299   9.999100  0.242666  0.000100  0.00469  0.904842\n",
       " 1  -165.018806  10.000000  0.237185  0.209108  0.00000  0.999957\n",
       " 2  -165.019141   9.999925  0.238228  0.354965  0.00000  0.999976\n",
       " 3  -165.019021   9.999747  0.241067  0.127548  0.00000  0.999926\n",
       " 4  -165.019238  10.000000  0.239614  0.174623  0.00000  0.999948\n",
       " ..         ...        ...       ...       ...      ...       ...\n",
       " 95 -165.018849   9.999458  0.240645  0.139773  0.00000  0.999933\n",
       " 96 -165.019967  10.000000  0.236135  0.290712  0.00000  0.999970\n",
       " 97 -165.017626   9.997525  0.245683  0.039552  0.00000  0.999752\n",
       " 98 -165.018603  10.000000  0.236898  0.223611  0.00000  0.999960\n",
       " 99 -165.019358   9.999935  0.241033  0.163738  0.00000  0.999944\n",
       " \n",
       " [100 rows x 6 columns],\n",
       "               S_d         b       p_b     S_b  eps     alpha\n",
       " 0  -100000.000000  0.165492  0.191358  0.0001  0.0  0.598316\n",
       " 1   -99999.999998  0.181340  0.213989  0.0001  0.0  0.660550\n",
       " 2   -99999.999998  0.152756  0.170284  0.0001  0.0  0.536507\n",
       " 3   -99999.999998  0.152751  0.170241  0.0001  0.0  0.536429\n",
       " 4  -100000.000000  0.154141  0.173122  0.0001  0.0  0.544419\n",
       " ..            ...       ...       ...     ...  ...       ...\n",
       " 95  -99999.999998  0.151335  0.176511  0.0001  0.0  0.542307\n",
       " 96  -99999.999999  0.170290  0.198358  0.0001  0.0  0.618442\n",
       " 97  -99999.999999  0.131814  0.125572  0.0001  0.0  0.400518\n",
       " 98  -99999.999999  0.159440  0.180728  0.0001  0.0  0.569011\n",
       " 99 -100000.000000  0.146955  0.159420  0.0001  0.0  0.503854\n",
       " \n",
       " [100 rows x 6 columns]]"
      ]
     },
     "execution_count": 8,
     "metadata": {},
     "output_type": "execute_result"
    }
   ],
   "source": [
    "# create inference objects\n",
    "inferences = [fd.BaseInference(sfs_neut=neut[t], sfs_sel=sel[t]) for t in neut.types]\n",
    "\n",
    "# run inferences\n",
    "[i.run() for i in inferences]\n",
    "\n",
    "# bootstrap inferences\n",
    "[i.bootstrap() for i in inferences]"
   ]
  },
  {
   "cell_type": "code",
   "execution_count": 9,
   "metadata": {
    "ExecuteTime": {
     "end_time": "2023-07-19T14:20:45.486776Z",
     "start_time": "2023-07-19T14:20:45.203382Z"
    },
    "collapsed": false
   },
   "outputs": [
    {
     "data": {
      "text/plain": [
       "<Axes: title={'center': 'parameter estimates'}>"
      ]
     },
     "execution_count": 9,
     "metadata": {},
     "output_type": "execute_result"
    },
    {
     "data": {
      "image/png": "[encoded data removed]",
      "text/plain": [
       "<Figure size 512x384 with 1 Axes>"
      ]
     },
     "metadata": {},
     "output_type": "display_data"
    }
   ],
   "source": [
    "fd.Inference.plot_inferred_parameters(inferences, labels=neut.types)"
   ]
  }
 ],
 "metadata": {
  "kernelspec": {
   "display_name": "Python 3",
   "language": "python",
   "name": "python3"
  },
  "language_info": {
   "codemirror_mode": {
    "name": "ipython",
    "version": 2
   },
   "file_extension": ".py",
   "mimetype": "text/x-python",
   "name": "python",
   "nbconvert_exporter": "python",
   "pygments_lexer": "ipython2",
   "version": "2.7.6"
  }
 },
 "nbformat": 4,
 "nbformat_minor": 0
}