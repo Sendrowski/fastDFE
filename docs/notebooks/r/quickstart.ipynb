{
 "cells": [
  {
   "cell_type": "markdown",
   "metadata": {},
   "source": [
    "# Quickstart in R\n",
    "## Basic inference\n",
    "The easiest way to get started is by using the {class}`~fastdfe.base_inference.BaseInference` class which infers the DFE from a single pairs of SFSs, one neutral and one selected. In this example we create {class}`~fastdfe.spectrum.Spectrum` objects holding the SFS counts and pass it to {class}`~fastdfe.base_inference.BaseInference`. Note that we are required to specify the number of monomorphic sites (the last and first entries of the specified counts)."
   ]
  },
  {
   "cell_type": "code",
   "execution_count": 1,
   "metadata": {
    "collapsed": false,
    "jupyter": {
     "outputs_hidden": false
    },
    "tags": [],
    "ExecuteTime": {
     "end_time": "2023-06-22T09:06:00.645282Z",
     "start_time": "2023-06-22T09:05:29.030794Z"
    }
   },
   "outputs": [
    {
     "name": "stdout",
     "output_type": "stream",
     "text": [
      "Using virtual environment '/Users/au732936/.virtualenvs/r-reticulate' ...\n"
     ]
    },
    {
     "name": "stderr",
     "output_type": "stream",
     "text": [
      "+ '/Users/au732936/.virtualenvs/r-reticulate/bin/python' -m pip install --upgrade --no-user 'fastdfe'\n",
      "\n"
     ]
    },
    {
     "data": {
      "text/plain": "<fastdfe.spectrum.Spectrum object at 0x10d7c7dc0>"
     },
     "metadata": {},
     "output_type": "display_data"
    }
   ],
   "source": [
    "# set up fastDFE through reticulate\n",
    "library(reticulate)\n",
    "py_install(\"fastdfe\")\n",
    "fastdfe <- import(\"fastdfe\")\n",
    "\n",
    "# import classes\n",
    "base_inference <- fastdfe$BaseInference\n",
    "spectrum <- fastdfe$Spectrum\n",
    "\n",
    "# configure inference\n",
    "inf <- base_inference(\n",
    "  sfs_neut=spectrum(c(177130, 997, 441, 228, 156, 117, 114, 83, 105, 109, 652)),\n",
    "  sfs_sel=spectrum(c(797939, 1329, 499, 265, 162, 104, 117, 90, 94, 119, 794))\n",
    ")\n",
    "\n",
    "# Run inference\n",
    "base_inference$run(inf)"
   ]
  },
  {
   "cell_type": "markdown",
   "metadata": {},
   "source": [
    "fastDFE uses maximum likelihood estimation (MLE) to find the DFE. By default, 10 local optimization runs are carried out to make sure a reasonably good global optimum has been bound. The DFE furthermore needs to parametrized where {class}`~fastdfe.parametrization.GammaExpParametrization` is used by default."
   ]
  },
  {
   "cell_type": "markdown",
   "metadata": {},
   "source": [
    "We can now plot the inferred DFE in discretized form (cf. {func}`~fastdfe.base_inference.BaseInference.plot_discretized`)."
   ]
  },
  {
   "cell_type": "code",
   "execution_count": 6,
   "metadata": {
    "collapsed": false,
    "jupyter": {
     "outputs_hidden": false
    },
    "tags": [],
    "ExecuteTime": {
     "end_time": "2023-06-22T09:07:21.091232Z",
     "start_time": "2023-06-22T09:07:17.495941Z"
    }
   },
   "outputs": [
    {
     "data": {
      "text/plain": "<Axes: >"
     },
     "metadata": {},
     "output_type": "display_data"
    }
   ],
   "source": [
    "inf$plot_discretized()"
   ]
  },
  {
   "cell_type": "markdown",
   "metadata": {},
   "source": [
    "We can also plot a comparison of the (selected) modelled and observed SFS (cf. {func}`~fastdfe.base_inference.BaseInference.plot_sfs_comparison`)."
   ]
  },
  {
   "cell_type": "code",
   "execution_count": 6,
   "metadata": {
    "collapsed": false,
    "jupyter": {
     "outputs_hidden": false
    },
    "ExecuteTime": {
     "end_time": "2023-06-22T07:26:32.804948Z",
     "start_time": "2023-06-22T07:26:27.375124Z"
    }
   },
   "outputs": [
    {
     "data": {
      "text/plain": "<Axes: title={'center': 'SFS comparison'}, xlabel='frequency'>"
     },
     "metadata": {},
     "output_type": "display_data"
    }
   ],
   "source": [
    "inf$plot_sfs_comparison()"
   ]
  },
  {
   "cell_type": "markdown",
   "metadata": {},
   "source": [
    "## Bootstrapping\n",
    "\n",
    "We can perform parametric bootstrapping (cf. {func}`~fastdfe.base_inference.BaseInference.bootstrap`)"
   ]
  },
  {
   "cell_type": "code",
   "execution_count": null,
   "metadata": {
    "collapsed": false,
    "jupyter": {
     "outputs_hidden": false
    }
   },
   "outputs": [],
   "source": [
    "inf$bootstrap()\n",
    "\n",
    "# redo the plotting\n",
    "inf$plot_discretized()"
   ]
  },
  {
   "cell_type": "markdown",
   "metadata": {},
   "source": [
    "## Serialization"
   ]
  },
  {
   "cell_type": "code",
   "execution_count": null,
   "metadata": {
    "collapsed": false,
    "jupyter": {
     "outputs_hidden": false
    }
   },
   "outputs": [],
   "source": [
    "# save the inference object to the file\n",
    "# we can unserialized the inference by using BaseInference.from_file\n",
    "inf$to_file(\"out/serialized.json\")\n",
    "\n",
    "# alternatively we can also save a summary to file\n",
    "inf$get_summary()$to_file(\"out/summary.json\")"
   ]
  }
 ],
 "metadata": {
  "kernelspec": {
   "display_name": "R",
   "language": "R",
   "name": "ir"
  },
  "language_info": {
   "codemirror_mode": "r",
   "file_extension": ".r",
   "mimetype": "text/x-r-source",
   "name": "R",
   "pygments_lexer": "r",
   "version": "4.2.3"
  }
 },
 "nbformat": 4,
 "nbformat_minor": 4
}
