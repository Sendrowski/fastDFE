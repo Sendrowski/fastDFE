{
 "cells": [
  {
   "cell_type": "code",
   "execution_count": 1,
   "metadata": {
    "collapsed": true,
    "ExecuteTime": {
     "end_time": "2023-07-10T10:28:09.158331Z",
     "start_time": "2023-07-10T10:21:50.698014Z"
    }
   },
   "outputs": [
    {
     "name": "stderr",
     "output_type": "stream",
     "text": [
      "Counting sites: 2439037it [00:42, 57946.90it/s]\n",
      "\u001B[32mINFO:fastdfe.Parser: Using stratification: [neutral, selected].[A, C, G, T].\u001B[0m\n",
      "\u001B[32mINFO:fastdfe.Parser: Starting to parse.\u001B[0m\n",
      "Processing sites: 100%|██████████| 2439037/2439037 [05:27<00:00, 7447.44it/s] \n",
      "\u001B[32mINFO:fastdfe.PolyAllelicFiltration: Filtered out 0 sites.\u001B[0m\n",
      "\u001B[32mINFO:fastdfe.DegeneracyStratification: Number of sites with valid type: 980934 / 2438327\u001B[0m\n",
      "\u001B[32mINFO:fastdfe.AncestralBaseStratification: Number of sites with valid type: 980934 / 981644\u001B[0m\n",
      "\u001B[32mINFO:fastdfe.Parser: Included 980934 out of 2439037 sites in total.\u001B[0m\n"
     ]
    }
   ],
   "source": [
    "import matplotlib.pyplot as plt\n",
    "import fastdfe as fd\n",
    "\n",
    "# instantiate parser\n",
    "p = fd.Parser(\n",
    "    n=10,\n",
    "    vcf=\"../../resources/genome/betula/all.vcf.gz\",\n",
    "    stratifications=[fd.DegeneracyStratification(), fd.AncestralBaseStratification()]\n",
    ")\n",
    "\n",
    "# parse SFS\n",
    "s: fd.Spectra = p.parse()\n",
    "\n",
    "# extract neutral and selected SFS\n",
    "neut = s['neutral.*'].merge_groups(1)\n",
    "sel = s['selected.*'].merge_groups(1)"
   ]
  },
  {
   "cell_type": "code",
   "execution_count": 2,
   "outputs": [
    {
     "ename": "IndexError",
     "evalue": "list index out of range",
     "output_type": "error",
     "traceback": [
      "\u001B[0;31m---------------------------------------------------------------------------\u001B[0m",
      "\u001B[0;31mIndexError\u001B[0m                                Traceback (most recent call last)",
      "Cell \u001B[0;32mIn[2], line 1\u001B[0m\n\u001B[0;32m----> 1\u001B[0m inferences \u001B[38;5;241m=\u001B[39m [fd\u001B[38;5;241m.\u001B[39mBaseInference(sfs_neut\u001B[38;5;241m=\u001B[39mneut[t], sfs_sel\u001B[38;5;241m=\u001B[39msel[t]) \u001B[38;5;28;01mfor\u001B[39;00m t \u001B[38;5;129;01min\u001B[39;00m s\u001B[38;5;241m.\u001B[39mtypes]\n\u001B[1;32m      3\u001B[0m [i\u001B[38;5;241m.\u001B[39mrun \u001B[38;5;28;01mfor\u001B[39;00m i \u001B[38;5;129;01min\u001B[39;00m inferences]\n",
      "Cell \u001B[0;32mIn[2], line 1\u001B[0m, in \u001B[0;36m<listcomp>\u001B[0;34m(.0)\u001B[0m\n\u001B[0;32m----> 1\u001B[0m inferences \u001B[38;5;241m=\u001B[39m [\u001B[43mfd\u001B[49m\u001B[38;5;241;43m.\u001B[39;49m\u001B[43mBaseInference\u001B[49m\u001B[43m(\u001B[49m\u001B[43msfs_neut\u001B[49m\u001B[38;5;241;43m=\u001B[39;49m\u001B[43mneut\u001B[49m\u001B[43m[\u001B[49m\u001B[43mt\u001B[49m\u001B[43m]\u001B[49m\u001B[43m,\u001B[49m\u001B[43m \u001B[49m\u001B[43msfs_sel\u001B[49m\u001B[38;5;241;43m=\u001B[39;49m\u001B[43msel\u001B[49m\u001B[43m[\u001B[49m\u001B[43mt\u001B[49m\u001B[43m]\u001B[49m\u001B[43m)\u001B[49m \u001B[38;5;28;01mfor\u001B[39;00m t \u001B[38;5;129;01min\u001B[39;00m s\u001B[38;5;241m.\u001B[39mtypes]\n\u001B[1;32m      3\u001B[0m [i\u001B[38;5;241m.\u001B[39mrun \u001B[38;5;28;01mfor\u001B[39;00m i \u001B[38;5;129;01min\u001B[39;00m inferences]\n",
      "File \u001B[0;32m~/PycharmProjects/fastDFE/fastdfe/base_inference.py:178\u001B[0m, in \u001B[0;36mBaseInference.__init__\u001B[0;34m(self, sfs_neut, sfs_sel, intervals_del, intervals_ben, integration_mode, linearized, model, seed, x0, bounds, scales, loss_type, opts_mle, n_runs, fixed_params, do_bootstrap, n_bootstraps, parallelize, folded, discretization, optimization, locked, **kwargs)\u001B[0m\n\u001B[1;32m    175\u001B[0m     \u001B[38;5;28mself\u001B[39m\u001B[38;5;241m.\u001B[39msfs_sel: Spectrum \u001B[38;5;241m=\u001B[39m sfs_sel\n\u001B[1;32m    177\u001B[0m \u001B[38;5;66;03m# check that we have monomorphic counts\u001B[39;00m\n\u001B[0;32m--> 178\u001B[0m \u001B[38;5;28;01mif\u001B[39;00m \u001B[38;5;28;43mself\u001B[39;49m\u001B[38;5;241;43m.\u001B[39;49m\u001B[43msfs_neut\u001B[49m\u001B[38;5;241;43m.\u001B[39;49m\u001B[43mto_list\u001B[49m\u001B[43m(\u001B[49m\u001B[43m)\u001B[49m\u001B[43m[\u001B[49m\u001B[38;5;241;43m0\u001B[39;49m\u001B[43m]\u001B[49m \u001B[38;5;241m==\u001B[39m \u001B[38;5;241m0\u001B[39m \u001B[38;5;129;01mor\u001B[39;00m \u001B[38;5;28mself\u001B[39m\u001B[38;5;241m.\u001B[39msfs_sel\u001B[38;5;241m.\u001B[39mto_list()[\u001B[38;5;241m0\u001B[39m] \u001B[38;5;241m==\u001B[39m \u001B[38;5;241m0\u001B[39m:\n\u001B[1;32m    179\u001B[0m     \u001B[38;5;28;01mraise\u001B[39;00m \u001B[38;5;167;01mValueError\u001B[39;00m(\u001B[38;5;124m'\u001B[39m\u001B[38;5;124mSome of the provided SFS have zero ancestral monomorphic counts. \u001B[39m\u001B[38;5;124m'\u001B[39m\n\u001B[1;32m    180\u001B[0m                      \u001B[38;5;124m'\u001B[39m\u001B[38;5;124mNote that we require monomorphic counts in order to infer the mutation rate.\u001B[39m\u001B[38;5;124m'\u001B[39m)\n\u001B[1;32m    182\u001B[0m \u001B[38;5;66;03m#: The DFE parametrization\u001B[39;00m\n",
      "\u001B[0;31mIndexError\u001B[0m: list index out of range"
     ]
    }
   ],
   "source": [
    "# create inference objects\n",
    "inferences = [fd.BaseInference(sfs_neut=neut[t], sfs_sel=sel[t]) for t in s.types]\n",
    "\n",
    "# run inference\n",
    "[i.run for i in inferences]"
   ],
   "metadata": {
    "collapsed": false,
    "ExecuteTime": {
     "end_time": "2023-07-10T10:28:09.496378Z",
     "start_time": "2023-07-10T10:28:09.162013Z"
    }
   }
  },
  {
   "cell_type": "code",
   "execution_count": null,
   "outputs": [],
   "source": [
    "fd.Inference.plot_inferred_parameters(inferences)"
   ],
   "metadata": {
    "collapsed": false
   }
  }
 ],
 "metadata": {
  "kernelspec": {
   "display_name": "Python 3",
   "language": "python",
   "name": "python3"
  },
  "language_info": {
   "codemirror_mode": {
    "name": "ipython",
    "version": 2
   },
   "file_extension": ".py",
   "mimetype": "text/x-python",
   "name": "python",
   "nbconvert_exporter": "python",
   "pygments_lexer": "ipython2",
   "version": "2.7.6"
  }
 },
 "nbformat": 4,
 "nbformat_minor": 0
}
