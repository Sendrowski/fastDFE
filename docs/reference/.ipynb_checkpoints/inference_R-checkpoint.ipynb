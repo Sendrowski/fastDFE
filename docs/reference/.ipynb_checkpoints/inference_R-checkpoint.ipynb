{
 "cells": [
  {
   "cell_type": "markdown",
   "source": [
    "# DFE Inference\n",
    "## Base inference\n",
    "In order to infer the DFE of a single pair, one neutral and one selected, we can use {class}`~fastdfe.base_inference.BaseInference`. In this example we create {class}`~fastdfe.spectrum.Spectrum` objects holding the SFS counts and pass it to BaseInference. Note that we are required to specify the number of monomorphic sites (the last and first entries of the specified counts)."
   ],
   "metadata": {
    "collapsed": false
   }
  },
  {
   "cell_type": "code",
   "execution_count": null,
   "outputs": [],
   "source": [
    "# necessary for docs\n",
    "setwd(\"../../\")"
   ],
   "metadata": {
    "collapsed": false
   }
  },
  {
   "cell_type": "code",
   "execution_count": null,
   "outputs": [],
   "source": [
    "source(\"R/fastdfe.R\")\n",
    "\n",
    "# import classes\n",
    "base_inference <- fastdfe$BaseInference\n",
    "spectrum <- fastdfe$Spectrum\n",
    "\n",
    "sfs_neut = spectrum(c(177130, 997, 441, 228, 156, 117, 114, 83, 105, 109, 652))\n",
    "sfs_sel = spectrum(c(797939, 1329, 499, 265, 162, 104, 117, 90, 94, 119, 794))\n",
    "\n",
    "# create inference object\n",
    "inf = base_inference(\n",
    "    sfs_neut=sfs_neut,\n",
    "    sfs_sel=sfs_sel,\n",
    "    n_runs=10\n",
    ")\n",
    "\n",
    "# run inference\n",
    "base_inference$run(inf);"
   ],
   "metadata": {
    "collapsed": false
   }
  },
  {
   "cell_type": "markdown",
   "source": [
    "\n",
    "fastDFE uses maximum likelihood estimation (MLE) to find the DFE. By default, 10 local optimization runs are carried out to make sure a reasonably good global optimum has been bound (see {class}`~fastdfe.base_inference.BaseInference` for all configuration options). The DFE furthermore needs to parametrized where {class}`~fastdfe.parametrization.GammaExpParametrization` is used by default."
   ],
   "metadata": {
    "collapsed": false
   }
  },
  {
   "cell_type": "markdown",
   "source": [
    "We can now plot the inferred DFE in discretized form (cf. {func}`~fastdfe.base_inference.BaseInference.plot_discretized`)."
   ],
   "metadata": {
    "collapsed": false
   }
  },
  {
   "cell_type": "code",
   "execution_count": null,
   "outputs": [],
   "source": [
    "base_inference$plot_discretized(inf);"
   ],
   "metadata": {
    "collapsed": false
   }
  },
  {
   "cell_type": "markdown",
   "source": [
    "We can also plot a comparison of the (selected) modelled and observed SFS (cf. {func}`~fastdfe.base_inference.BaseInference.plot_sfs_comparison`)."
   ],
   "metadata": {
    "collapsed": false
   }
  },
  {
   "cell_type": "code",
   "execution_count": null,
   "outputs": [],
   "source": [
    "base_inference$plot_sfs_comparison(inf);"
   ],
   "metadata": {
    "collapsed": false
   }
  },
  {
   "cell_type": "markdown",
   "source": [
    "### Bootstrapping\n",
    "\n",
    "We can perform parametric bootstrapping (cf. {func}`~fastdfe.base_inference.BaseInference.bootstrap`) to estimate the uncertainty of the inferred DFE. This is done by sampling new SFSs from the inferred DFE and re-running the inference."
   ],
   "metadata": {
    "collapsed": false
   }
  },
  {
   "cell_type": "code",
   "execution_count": null,
   "outputs": [],
   "source": [
    "# run bootstrapping\n",
    "base_inference$bootstrap(inf, n_samples=100)\n",
    "\n",
    "# redo the plotting\n",
    "base_inference$plot_discretized(inf);"
   ],
   "metadata": {
    "collapsed": false
   }
  },
  {
   "cell_type": "markdown",
   "source": [
    "The bars indicate 95% confidence intervals. We can adjust the confidence level among other things (cf. {func}`~fastdfe.base_inference.BaseInference.plot_discretized`)."
   ],
   "metadata": {
    "collapsed": false
   }
  },
  {
   "cell_type": "markdown",
   "source": [
    "### Fixing parameters\n",
    "We can hold parameters fixed during the maximum likelihood optimization. This is useful, for example, if only using a subset of the parameters has a reasonable interpretation. In this example, we fix ancestral-allele mis-identification rate ``eps`` to 0. We also force the DFE to be purely deleterious, by fixing ``S_b`` to some arbitrary value and setting ``p_b`` to 0 (cf. {class}`~fastdfe.parametrization.GammaExpParametrization`)."
   ],
   "metadata": {
    "collapsed": false
   }
  },
  {
   "cell_type": "code",
   "execution_count": null,
   "outputs": [],
   "source": [
    "# create inference object\n",
    "inf = base_inference(\n",
    "    sfs_neut=sfs_neut,\n",
    "    sfs_sel=sfs_sel,\n",
    "    # Fix parameters, note that we need specify type 'all'\n",
    "    # if only one type is used. Later we will work with\n",
    "    # more than one type.\n",
    "    fixed_params=list(all=list(eps=0, S_b=1, p_b=0)),\n",
    "    do_bootstrap=TRUE\n",
    ")\n",
    "\n",
    "# run inference\n",
    "base_inference$run(inf)\n",
    "\n",
    "base_inference$plot_discretized(inf);"
   ],
   "metadata": {
    "collapsed": false
   }
  },
  {
   "cell_type": "markdown",
   "source": [
    "### Nested model comparison\n",
    "We can automatically check for the significance of include ancestral-allele mis-idenfication and beneficial fitness affects using likelihood ratio test (LRTs). This is done with {func}`~fastdfe.base_inference.BaseInference.plot_nested_models`. The LRTs are performed by comparing the likelihood of the inferred DFE to the likelihood of a nested model where some parameters are held fixed."
   ],
   "metadata": {
    "collapsed": false
   }
  },
  {
   "cell_type": "code",
   "execution_count": null,
   "outputs": [],
   "source": [
    "# disable progress bar and set logging level to warning to avoid cluttering\n",
    "fastdfe.disable_pbar = TRUE\n",
    "fastdfe$logger$setLevel(30) # warning\n",
    "\n",
    "base_inference$plot_nested_models(inf);"
   ],
   "metadata": {
    "collapsed": false
   }
  },
  {
   "cell_type": "markdown",
   "source": [
    "Neither including beneficial mutations nor ancestral-allele mis-identification do appear to improve the fit significantly."
   ],
   "metadata": {
    "collapsed": false
   }
  },
  {
   "cell_type": "markdown",
   "source": [
    "### Visualize likelihoods\n",
    "We can visualize the likelihoods of the differently-initialized optimization runs. This can give us some information on how good an optimum could be found."
   ],
   "metadata": {
    "collapsed": false
   }
  },
  {
   "cell_type": "code",
   "execution_count": null,
   "outputs": [],
   "source": [
    "inf.plot_likelihoods(scale='lin');"
   ],
   "metadata": {
    "collapsed": false
   }
  },
  {
   "cell_type": "markdown",
   "source": [
    "There might be some room for improvement as the likelihoods do show some variation. We could consider increasing the ``n_runs`` argument."
   ],
   "metadata": {
    "collapsed": false
   }
  },
  {
   "cell_type": "markdown",
   "source": [
    "### Serialization"
   ],
   "metadata": {
    "collapsed": false
   }
  },
  {
   "cell_type": "code",
   "execution_count": null,
   "outputs": [],
   "source": [
    "# save the inference object to a file\n",
    "# we can unserialized the inference by using BaseInference.from_file\n",
    "inf.to_file(\"out/serialized.json\")\n",
    "\n",
    "# we can also save a short summary to fa ile\n",
    "inf.get_summary().to_file(\"out/summary.json\")"
   ],
   "metadata": {
    "collapsed": false
   }
  },
  {
   "cell_type": "markdown",
   "source": [
    "## Folded inference\n",
    "To infer the DFE from a folded SFS, simply pass folded spectra to {class}`~fastdfe.base_inference.BaseInference`. Folded inference is performed whenever the spectra appear to be folded, i.e., when all entries where the derived allele is the major allele are zero. In this example, we only infer the deleterious DFE as folded spectra contain no information on beneficial mutations."
   ],
   "metadata": {
    "collapsed": false
   }
  },
  {
   "cell_type": "code",
   "execution_count": null,
   "outputs": [],
   "source": [
    "import matplotlib.pyplot as plt\n",
    "import numpy as np\n",
    "\n",
    "# create inference object\n",
    "inf = BaseInference(\n",
    "    sfs_neut=sfs_neut.fold(),\n",
    "    sfs_sel=sfs_sel.fold(),\n",
    "    fixed_params=dict(all=dict(eps=0, S_b=1, p_b=0))\n",
    ")\n",
    "\n",
    "# run inference\n",
    "inf.run()\n",
    "\n",
    "# plot the inferred DFE and the SFS comparison\n",
    "ax1, ax2 = plt.subplots(ncols=2, figsize=(8, 4))[1]\n",
    "\n",
    "inf.plot_discretized(ax=ax1, show=False, intervals=np.array([-np.inf, -100, -10, -1, 0]))\n",
    "inf.plot_sfs_comparison(ax=ax2, show=False)\n",
    "\n",
    "plt.tight_layout()\n",
    "plt.show()"
   ],
   "metadata": {
    "collapsed": false
   }
  },
  {
   "cell_type": "markdown",
   "source": [
    "## Joint inference\n",
    "fastDFE supports joint inference of several SFS types, where any parameters can be shared between types. In this example, we create a {class}`~fastdfe.joint_inference.JointInference` object with two types, where we share ``eps``, the rate of ancestral misidentification and ``S_d``, the mean selection coefficient for deleterious mutations (cf. {class}`~fastdfe.parametrization.GammaExpParametrization`). For more complex stratifications, see the {class}`~fastdfe.parser.Parser`) module."
   ],
   "metadata": {
    "collapsed": false
   }
  },
  {
   "cell_type": "code",
   "execution_count": null,
   "outputs": [],
   "source": [
    "from fastdfe import JointInference, Spectra, SharedParams\n",
    "\n",
    "# neutral SFS for two types\n",
    "sfs_neut = Spectra(dict(\n",
    "    pendula=[177130, 997, 441, 228, 156, 117, 114, 83, 105, 109, 652],\n",
    "    pubescens=[172528, 3612, 1359, 790, 584, 427, 325, 234, 166, 76, 31]\n",
    "))\n",
    "\n",
    "# selected SFS for two types\n",
    "sfs_sel = Spectra(dict(\n",
    "    pendula=[797939, 1329, 499, 265, 162, 104, 117, 90, 94, 119, 794],\n",
    "    pubescens=[791106, 5326, 1741, 1005, 756, 546, 416, 294, 177, 104, 41]\n",
    "))\n",
    "\n",
    "# create inference object\n",
    "inf = JointInference(\n",
    "    sfs_neut=sfs_neut,\n",
    "    sfs_sel=sfs_sel,\n",
    "    shared_params=[SharedParams(types=[\"pendula\", \"pubescens\"], params=[\"eps\", \"S_d\"])],\n",
    "    do_bootstrap=True\n",
    ")\n",
    "\n",
    "# run inference\n",
    "inf.run();"
   ],
   "metadata": {
    "collapsed": false
   }
  },
  {
   "cell_type": "markdown",
   "source": [
    "{class}`~fastdfe.joint_inference.JointInference` both runs the joint inference and marginal inference where each type is inferred separately. To see this better we can plot the inferred parameters for the different inference types."
   ],
   "metadata": {
    "collapsed": false
   }
  },
  {
   "cell_type": "code",
   "execution_count": null,
   "outputs": [],
   "source": [
    "inf.plot_inferred_parameters();"
   ],
   "metadata": {
    "collapsed": false
   }
  },
  {
   "cell_type": "markdown",
   "source": [
    "``marginal.pendula`` and ``marginal.pubescens`` are the marginal inferences for the respective type. ``marginal.all`` is the marginal inference obtaining by adding up the spectra of all types. ``joint.pendula`` and ``join.pubescens`` are the joint inferences for the respective type. We can see that ``eps`` and ``S_d`` are indeed shared between the two. The parameter ``alpha`` in the plot denotes the proportion of beneficial non-synonymous substitutions. Each marginal inference is a {class}`~fastdfe.base_inference.BaseInference` object itself and can be accessed via ``inf.marginal_inferences[type]``.\n",
    "\n",
    "We can now also investigate to what extend the inferred DFEs differ:"
   ],
   "metadata": {
    "collapsed": false
   }
  },
  {
   "cell_type": "code",
   "execution_count": null,
   "outputs": [],
   "source": [
    "inf.plot_discretized();"
   ],
   "metadata": {
    "collapsed": false
   }
  },
  {
   "cell_type": "markdown",
   "source": [
    "### Model comparison\n",
    "We can obtain information about the goodness of fit achieved by sharing the parameter by performing a likelihood ratio test (cf. {func}`~fastdfe.joint_inference.JointInference.perform_lrt_shared`). This compares the likelihood of the joint inference with the product of the marginal likelihoods."
   ],
   "metadata": {
    "collapsed": false
   }
  },
  {
   "cell_type": "code",
   "execution_count": null,
   "outputs": [],
   "source": [
    "inf.perform_lrt_shared()"
   ],
   "metadata": {
    "collapsed": false
   }
  },
  {
   "cell_type": "markdown",
   "source": [
    "The test is not significant, indicating that the simpler model of sharing the parameters explains the data sufficiently well. Indeed, we do not observe a lot of differences between the inferred parameters of joint and the marginal inferences."
   ],
   "metadata": {
    "collapsed": false
   }
  },
  {
   "cell_type": "markdown",
   "source": [
    "## Covariates\n",
    "{class}`~fastdfe.joint_inference.JointInference` also supports the inclusion of covariates associates with the different SFS types. This provides more powerful model testing and reduces the number of parameters that need to be estimated for the joint inference. For a more interesting example we stratify the SFS of `B. pendula` by the sites' reference base as is described in more detail in the {mod}`~fastdfe.parser` module."
   ],
   "metadata": {
    "collapsed": false
   }
  },
  {
   "cell_type": "code",
   "execution_count": null,
   "outputs": [],
   "source": [
    "from fastdfe import Parser, Spectra, AncestralBaseStratification, DegeneracyStratification\n",
    "\n",
    "# instantiate parser\n",
    "p = Parser(\n",
    "    n=10,\n",
    "    vcf=\"../../snakemake/results/vcf/betula/pendula.vcf.gz\",\n",
    "    stratifications=[DegeneracyStratification(), AncestralBaseStratification()]\n",
    ")\n",
    "\n",
    "# parse SFS\n",
    "spectra: Spectra = p.parse()\n",
    "\n",
    "# visualize spectra\n",
    "spectra.plot();"
   ],
   "metadata": {
    "collapsed": false
   }
  },
  {
   "cell_type": "markdown",
   "source": [
    "We now create the inference object from the spectra. In this contrived example we make up some covariates that covary with ``S_d``, the mean strength of negative selection. Covariates introduce a linear relationship by default but this can be modified by specifying a custom callback function (see {class}`~fastdfe.optimization.Covariate`)."
   ],
   "metadata": {
    "collapsed": false
   }
  },
  {
   "cell_type": "code",
   "execution_count": null,
   "outputs": [],
   "source": [
    "from fastdfe import Covariate\n",
    "\n",
    "# create inference object\n",
    "inf = JointInference(\n",
    "    sfs_neut=spectra[['neutral.*']].merge_groups(1),\n",
    "    sfs_sel=spectra[['selected.*']].merge_groups(1),\n",
    "    covariates=[Covariate(param='S_d', values=dict(A=1, C=2, T=3, G=4))],\n",
    "    fixed_params={'all': dict(S_b=1, eps=0, p_b=0)},\n",
    "    do_bootstrap=True\n",
    ")\n",
    "\n",
    "# run inference\n",
    "inf.run();"
   ],
   "metadata": {
    "collapsed": false
   }
  },
  {
   "cell_type": "markdown",
   "source": [
    "Let's visualize the inferred parameters"
   ],
   "metadata": {
    "collapsed": false
   }
  },
  {
   "cell_type": "code",
   "execution_count": null,
   "outputs": [],
   "source": [
    "inf.plot_inferred_parameters();"
   ],
   "metadata": {
    "collapsed": false
   }
  },
  {
   "cell_type": "markdown",
   "source": [
    "We do see that ``S_b`` indeed varies among the jointly-inferred types and this is due to the linear relationship with the covariate values introduced.\n",
    "\n",
    "### Model comparison\n",
    "We can perform a likelihood ratio test to see whether including the covariates produces a significantly better fit than simply sharing the parameter in question among the types (cf. {func}`~fastdfe.joint_inference.JointInference.perform_lrt_covariates`)."
   ],
   "metadata": {
    "collapsed": false
   }
  },
  {
   "cell_type": "code",
   "execution_count": null,
   "outputs": [],
   "source": [
    "inf.perform_lrt_covariates()"
   ],
   "metadata": {
    "collapsed": false
   }
  },
  {
   "cell_type": "markdown",
   "source": [
    "As expected, the specified covariates do not improve the fit significantly."
   ],
   "metadata": {
    "collapsed": false
   }
  }
 ],
 "metadata": {
  "kernelspec": {
   "name": "ir",
   "language": "R",
   "display_name": "R"
  },
  "language_info": {
   "codemirror_mode": {
    "name": "ipython",
    "version": 2
   },
   "file_extension": ".py",
   "mimetype": "text/x-python",
   "name": "python",
   "nbconvert_exporter": "python",
   "pygments_lexer": "ipython2",
   "version": "2.7.6"
  }
 },
 "nbformat": 4,
 "nbformat_minor": 0
}
