{
 "cells": [
  {
   "cell_type": "markdown",
   "metadata": {
    "collapsed": false,
    "jupyter": {
     "outputs_hidden": false
    }
   },
   "source": [
    "# VCF parsing\n",
    "## Introduction\n",
    "fastDFE provides parser utilities that enable convenient parsing of frequency spectra from VCF files. By default, {class}`~fastdfe.parser.Parser` looks at the ``AA`` tag in the VCF file's info field to retrieve the correct polarization. Sites for which this tag is not well-defined are by default included (see {attr}`~fastdfe.parser.Parser.skip_not_polarized`). Note that non-polarized frequency spectra provide little information on the distribution of beneficial mutations, however.\n",
    "\n",
    "We might also want to stratify the SFS by some site properties, such as site-degeneracy. This is done by passing stratifications to the parser. In this example, we will stratify the SFS by 0-fold and 4-fold degenerate sites using a VCF file for ``Betula spp.``"
   ]
  },
  {
   "cell_type": "code",
   "metadata": {
    "tags": [
     "remove-cell"
    ],
    "ExecuteTime": {
     "end_time": "2024-06-05T09:37:49.285604Z",
     "start_time": "2024-06-05T09:37:48.920029Z"
    }
   },
   "source": [
    "import matplotlib.pyplot as plt\n",
    "\n",
    "plt.rcParams['figure.figsize'] = [4.4, 3.3]"
   ],
   "outputs": [],
   "execution_count": 1
  },
  {
   "cell_type": "code",
   "metadata": {
    "collapsed": false,
    "jupyter": {
     "outputs_hidden": false
    },
    "ExecuteTime": {
     "end_time": "2024-06-05T09:37:50.147793Z",
     "start_time": "2024-06-05T09:37:49.287162Z"
    }
   },
   "source": [
    "import fastdfe as fd\n",
    "\n",
    "# url to the GitHub repository of fastDFE\n",
    "url = \"https://github.com/Sendrowski/fastDFE/blob/dev/\""
   ],
   "outputs": [],
   "execution_count": 2
  },
  {
   "cell_type": "code",
   "metadata": {
    "collapsed": false,
    "jupyter": {
     "outputs_hidden": false
    },
    "ExecuteTime": {
     "end_time": "2024-06-05T09:39:31.193351Z",
     "start_time": "2024-06-05T09:37:50.148707Z"
    }
   },
   "source": [
    "# instantiate parser\n",
    "p = fd.Parser(\n",
    "    n=8,\n",
    "    vcf=url + \"resources/genome/betula/biallelic.polarized.subset.50000.vcf.gz?raw=true\",\n",
    "    fasta=url + \"resources/genome/betula/genome.subset.1000.fasta.gz?raw=true\",\n",
    "    gff=url + \"resources/genome/betula/genome.gff.gz?raw=true\",\n",
    "    annotations=[\n",
    "        fd.DegeneracyAnnotation()\n",
    "    ],\n",
    "    stratifications=[fd.DegeneracyStratification()]\n",
    ")\n",
    "\n",
    "# parse SFS\n",
    "spectra: fd.Spectra = p.parse()"
   ],
   "outputs": [
    {
     "name": "stderr",
     "output_type": "stream",
     "text": [
      "\u001B[32mINFO:Parser: Using stratification: [neutral, selected].\u001B[0m\n",
      "\u001B[32mINFO:Parser: Loading VCF file\u001B[0m\n",
      "\u001B[32mINFO:FileHandler: Using cached file at /var/folders/w6/18ktl5312413jw46btlxrh59fzxvt4/T/70975cbc50c2.biallelic.polarized.subset.50000.vcf.gz\u001B[0m\n",
      "\u001B[32mINFO:Parser: Loading GFF file\u001B[0m\n",
      "\u001B[32mINFO:FileHandler: Using cached file at /var/folders/w6/18ktl5312413jw46btlxrh59fzxvt4/T/2d03158a125f.genome.gff.gz\u001B[0m\n",
      "\u001B[32mINFO:Parser: Loading FASTA file\u001B[0m\n",
      "\u001B[32mINFO:FileHandler: Using cached file at /var/folders/w6/18ktl5312413jw46btlxrh59fzxvt4/T/eb1f2b2b0185.genome.subset.1000.fasta.gz\u001B[0m\n",
      "\u001B[32mINFO:FileHandler: Using cached file at /var/folders/w6/18ktl5312413jw46btlxrh59fzxvt4/T/70975cbc50c2.biallelic.polarized.subset.50000.vcf.gz\u001B[0m\n",
      "Parser>Counting sites: 50000it [00:01, 28368.14it/s]\n",
      "Parser>Processing sites: 100%|██████████| 50000/50000 [01:38<00:00, 509.88it/s]\n",
      "\u001B[32mINFO:PolyAllelicFiltration: Filtered out 0 sites.\u001B[0m\n",
      "\u001B[32mINFO:DegeneracyStratification: Number of sites with valid type: 13771\u001B[0m\n",
      "\u001B[32mINFO:DegeneracyAnnotation: Annotated 19002 sites.\u001B[0m\n",
      "\u001B[32mINFO:Parser: Skipped 1669 sites without ancestral allele information.\u001B[0m\n",
      "\u001B[32mINFO:Parser: Included 13771 out of 50000 sites in total from the VCF file.\u001B[0m\n"
     ]
    }
   ],
   "execution_count": 3
  },
  {
   "cell_type": "code",
   "metadata": {
    "collapsed": false,
    "jupyter": {
     "outputs_hidden": false
    },
    "ExecuteTime": {
     "end_time": "2024-06-05T09:39:31.364248Z",
     "start_time": "2024-06-05T09:39:31.194667Z"
    }
   },
   "source": [
    "# visualize SFS\n",
    "spectra.plot();"
   ],
   "outputs": [
    {
     "data": {
      "text/plain": [
       "<Figure size 440x330 with 1 Axes>"
      ],
      "image/png": "[encoded data removed]"
     },
     "metadata": {},
     "output_type": "display_data"
    }
   ],
   "execution_count": 4
  },
  {
   "cell_type": "markdown",
   "metadata": {
    "collapsed": false,
    "jupyter": {
     "outputs_hidden": false
    }
   },
   "source": [
    "fastDFE relies here on VCF info tags to determine the degeneracy of a site but this behavior can be customized (cf. {class}`~fastdfe.parser.DegeneracyStratification`)."
   ]
  },
  {
   "cell_type": "markdown",
   "metadata": {
    "collapsed": false,
    "jupyter": {
     "outputs_hidden": false
    }
   },
   "source": [
    "## Stratifications\n",
    "We can use also several stratifications in tandem by specifying a list of stratifications. In this example, we will stratify the SFS by synonymy as well as base transitions type. The resulting spectra can be fed directly into fastDFE's inference routines. See {mod}`~fastdfe.parser` module for a complete list of available stratifications."
   ]
  },
  {
   "cell_type": "code",
   "metadata": {
    "collapsed": false,
    "jupyter": {
     "outputs_hidden": false
    },
    "ExecuteTime": {
     "end_time": "2024-06-05T09:41:09.309665Z",
     "start_time": "2024-06-05T09:39:31.366320Z"
    }
   },
   "source": [
    "# instantiate parser\n",
    "p = fd.Parser(\n",
    "    n=10,\n",
    "    vcf=url + \"resources/genome/betula/biallelic.polarized.subset.50000.vcf.gz?raw=true\",\n",
    "    fasta=url + \"resources/genome/betula/genome.subset.1000.fasta.gz?raw=true\",\n",
    "    gff=url + \"resources/genome/betula/genome.gff.gz?raw=true\",\n",
    "    annotations=[\n",
    "        fd.DegeneracyAnnotation()\n",
    "    ],\n",
    "    stratifications=[\n",
    "        fd.DegeneracyStratification(),\n",
    "        fd.AncestralBaseStratification()\n",
    "    ]\n",
    ")\n",
    "\n",
    "# parse SFS\n",
    "spectra: fd.Spectra = p.parse()"
   ],
   "outputs": [
    {
     "name": "stderr",
     "output_type": "stream",
     "text": [
      "\u001B[32mINFO:Parser: Using stratification: [neutral, selected].[A, C, G, T].\u001B[0m\n",
      "\u001B[32mINFO:Parser: Loading VCF file\u001B[0m\n",
      "\u001B[32mINFO:FileHandler: Using cached file at /var/folders/w6/18ktl5312413jw46btlxrh59fzxvt4/T/70975cbc50c2.biallelic.polarized.subset.50000.vcf.gz\u001B[0m\n",
      "\u001B[32mINFO:Parser: Loading GFF file\u001B[0m\n",
      "\u001B[32mINFO:FileHandler: Using cached file at /var/folders/w6/18ktl5312413jw46btlxrh59fzxvt4/T/2d03158a125f.genome.gff.gz\u001B[0m\n",
      "\u001B[32mINFO:Parser: Loading FASTA file\u001B[0m\n",
      "\u001B[32mINFO:FileHandler: Using cached file at /var/folders/w6/18ktl5312413jw46btlxrh59fzxvt4/T/eb1f2b2b0185.genome.subset.1000.fasta.gz\u001B[0m\n",
      "\u001B[32mINFO:FileHandler: Using cached file at /var/folders/w6/18ktl5312413jw46btlxrh59fzxvt4/T/70975cbc50c2.biallelic.polarized.subset.50000.vcf.gz\u001B[0m\n",
      "Parser>Counting sites: 50000it [00:01, 31807.00it/s]\n",
      "Parser>Processing sites: 100%|██████████| 50000/50000 [01:35<00:00, 525.23it/s]\n",
      "\u001B[32mINFO:PolyAllelicFiltration: Filtered out 0 sites.\u001B[0m\n",
      "\u001B[32mINFO:DegeneracyStratification: Number of sites with valid type: 13771\u001B[0m\n",
      "\u001B[32mINFO:AncestralBaseStratification: Number of sites with valid type: 13771\u001B[0m\n",
      "\u001B[32mINFO:DegeneracyAnnotation: Annotated 19002 sites.\u001B[0m\n",
      "\u001B[32mINFO:Parser: Skipped 1666 sites without ancestral allele information.\u001B[0m\n",
      "\u001B[32mINFO:Parser: Included 13771 out of 50000 sites in total from the VCF file.\u001B[0m\n"
     ]
    }
   ],
   "execution_count": 5
  },
  {
   "cell_type": "code",
   "metadata": {
    "collapsed": false,
    "jupyter": {
     "outputs_hidden": false
    },
    "ExecuteTime": {
     "end_time": "2024-06-05T09:41:09.512412Z",
     "start_time": "2024-06-05T09:41:09.310448Z"
    }
   },
   "source": [
    "# visualize SFS\n",
    "spectra.plot();"
   ],
   "outputs": [
    {
     "data": {
      "text/plain": [
       "<Figure size 440x330 with 1 Axes>"
      ],
      "image/png": "[encoded data removed]"
     },
     "metadata": {},
     "output_type": "display_data"
    }
   ],
   "execution_count": 6
  },
  {
   "cell_type": "markdown",
   "metadata": {
    "collapsed": false,
    "jupyter": {
     "outputs_hidden": false
    }
   },
   "source": [
    "Note that fastDFE requires the ancestral state of sites to be determined. The {class}`~fastdfe.parser.Parser` achieves this by examining the `AA` field, although this behavior can be customized.\n",
    "\n",
    "## Annotations\n",
    "fastDFE provides a number of annotations accessible directly during the parsing process. To annotate a VCF file directly, consider using the {class}`~fastdfe.annotation.Annotator` class.\n",
    "\n",
    "### Degeneracy Annotation\n",
    "{class}`~fastdfe.annotation.DegeneracyAnnotation` annotates the SFS by the degeneracy of the site. This annotation requires information from a FASTA and GFF file and is useful for stratifying the SFS by 0-fold and 4-fold degenerate sites which is what we often want to do when inferring the DFE (see {class}`~fastdfe.parser.DegeneracyStratification`).\n"
   ]
  },
  {
   "cell_type": "code",
   "metadata": {
    "collapsed": false,
    "jupyter": {
     "outputs_hidden": false
    },
    "ExecuteTime": {
     "end_time": "2024-06-05T09:41:24.220951Z",
     "start_time": "2024-06-05T09:41:09.513298Z"
    }
   },
   "source": [
    "# example for degeneracy annotation\n",
    "ann = fd.Annotator(\n",
    "    vcf=url + \"resources/genome/betula/biallelic.subset.10000.vcf.gz?raw=true\",\n",
    "    fasta=url + \"resources/genome/betula/genome.subset.1000.fasta.gz?raw=true\",\n",
    "    gff=url + \"resources/genome/betula/genome.gff.gz?raw=true\",\n",
    "    annotations=[fd.DegeneracyAnnotation()],\n",
    "    output=\"genome.deg.vcf.gz\"\n",
    ")\n",
    "\n",
    "ann.annotate()"
   ],
   "outputs": [
    {
     "name": "stderr",
     "output_type": "stream",
     "text": [
      "\u001B[32mINFO:Annotator: Start annotating\u001B[0m\n",
      "\u001B[32mINFO:Annotator: Loading GFF file\u001B[0m\n",
      "\u001B[32mINFO:FileHandler: Using cached file at /var/folders/w6/18ktl5312413jw46btlxrh59fzxvt4/T/2d03158a125f.genome.gff.gz\u001B[0m\n",
      "\u001B[32mINFO:Annotator: Loading FASTA file\u001B[0m\n",
      "\u001B[32mINFO:FileHandler: Using cached file at /var/folders/w6/18ktl5312413jw46btlxrh59fzxvt4/T/eb1f2b2b0185.genome.subset.1000.fasta.gz\u001B[0m\n",
      "\u001B[32mINFO:Annotator: Loading VCF file\u001B[0m\n",
      "\u001B[32mINFO:FileHandler: Downloading file from https://github.com/Sendrowski/fastDFE/blob/dev/resources/genome/betula/biallelic.subset.10000.vcf.gz?raw=true\u001B[0m\n",
      "Annotator>Downloading file: 100%|██████████| 14.5M/14.5M [00:07<00:00, 1.93MB/s]\n",
      "\u001B[32mINFO:FileHandler: Cached file at /var/folders/w6/18ktl5312413jw46btlxrh59fzxvt4/T/7a41c74709e8.biallelic.subset.10000.vcf.gz\u001B[0m\n",
      "\u001B[32mINFO:FileHandler: Using cached file at /var/folders/w6/18ktl5312413jw46btlxrh59fzxvt4/T/7a41c74709e8.biallelic.subset.10000.vcf.gz\u001B[0m\n",
      "Annotator>Counting sites: 10000it [00:00, 34184.99it/s]\n",
      "Annotator>Processing sites: 100%|██████████| 10000/10000 [00:03<00:00, 2631.79it/s]\n",
      "\u001B[32mINFO:DegeneracyAnnotation: Annotated 3566 sites.\u001B[0m\n"
     ]
    }
   ],
   "execution_count": 7
  },
  {
   "cell_type": "markdown",
   "metadata": {
    "collapsed": false,
    "jupyter": {
     "outputs_hidden": false
    }
   },
   "source": [
    "### Ancestral Allele Annotation\n",
    "Currently, two ancestral allele annotations are available: {class}`~fastdfe.annotation.MaximumParsimonyAncestralAnnotation` and {class}`~fastdfe.annotation.MaximumLikelihoodAncestralAnnotation`. The former is straightforward but susceptible to errors, and only appropriate if no outgroup information is available. Alternatively, if outgroups are missing, DFE inference can also be performed on folded spectra, but please note that this will yield less precise estimates. Ideally, we would like to use {class}`~fastdfe.annotation.MaximumLikelihoodAncestralAnnotation`, which is more sophisticated and requires one or several outgroup to be specified. Its underlying model is very similar to [EST-SFS](https://doi.org/10.1534/genetics.118.301120)."
   ]
  },
  {
   "cell_type": "code",
   "metadata": {
    "collapsed": false,
    "jupyter": {
     "outputs_hidden": false
    },
    "ExecuteTime": {
     "end_time": "2024-06-05T09:42:06.554436Z",
     "start_time": "2024-06-05T09:41:24.221968Z"
    }
   },
   "source": [
    "# example for ancestral allele annotation with outgroups\n",
    "ann = fd.Annotator(\n",
    "    vcf=url + \"resources/genome/betula/all.with_outgroups.subset.10000.vcf.gz?raw=true\",\n",
    "    annotations=[fd.MaximumLikelihoodAncestralAnnotation(\n",
    "        outgroups=[\"ERR2103730\"],\n",
    "        n_ingroups=10\n",
    "    )],\n",
    "    output=\"genome.aa.vcf.gz\"\n",
    ")\n",
    "\n",
    "ann.annotate()"
   ],
   "outputs": [
    {
     "name": "stderr",
     "output_type": "stream",
     "text": [
      "\u001B[32mINFO:Annotator: Start annotating\u001B[0m\n",
      "\u001B[32mINFO:Annotator: Loading VCF file\u001B[0m\n",
      "\u001B[32mINFO:FileHandler: Downloading file from https://github.com/Sendrowski/fastDFE/blob/dev/resources/genome/betula/all.with_outgroups.subset.10000.vcf.gz?raw=true\u001B[0m\n",
      "Annotator>Downloading file: 100%|██████████| 4.60M/4.60M [00:00<00:00, 17.8MB/s]\n",
      "\u001B[32mINFO:FileHandler: Cached file at /var/folders/w6/18ktl5312413jw46btlxrh59fzxvt4/T/a3b0e449a317.all.with_outgroups.subset.10000.vcf.gz\u001B[0m\n",
      "\u001B[32mINFO:Annotator: Loading VCF file\u001B[0m\n",
      "\u001B[32mINFO:FileHandler: Using cached file at /var/folders/w6/18ktl5312413jw46btlxrh59fzxvt4/T/a3b0e449a317.all.with_outgroups.subset.10000.vcf.gz\u001B[0m\n",
      "\u001B[32mINFO:MaximumLikelihoodAncestralAnnotation: Subsampling 10 ingroup haplotypes probabilistically from 378 individuals in total.\u001B[0m\n",
      "\u001B[32mINFO:MaximumLikelihoodAncestralAnnotation: Using 1 outgroup samples (ERR2103730).\u001B[0m\n",
      "\u001B[32mINFO:FileHandler: Using cached file at /var/folders/w6/18ktl5312413jw46btlxrh59fzxvt4/T/a3b0e449a317.all.with_outgroups.subset.10000.vcf.gz\u001B[0m\n",
      "Annotator>Counting sites: 10000it [00:00, 88694.19it/s]\n",
      "MaximumLikelihoodAncestralAnnotation>Parsing sites: 100%|██████████| 10000/10000 [00:28<00:00, 351.43it/s]\n",
      "\u001B[32mINFO:MaximumLikelihoodAncestralAnnotation: Included 6688 sites for the inference.\u001B[0m\n",
      "MaximumLikelihoodAncestralAnnotation>Optimizing rates: 100%|██████████| 10/10 [00:00<00:00, 27.84it/s]\n",
      "Annotator>Processing sites: 100%|██████████| 10000/10000 [00:11<00:00, 887.02it/s]\n",
      "\u001B[32mINFO:MaximumLikelihoodAncestralAnnotation: Annotated 10000 sites.\u001B[0m\n",
      "\u001B[32mINFO:MaximumLikelihoodAncestralAnnotation: There were 195 mismatches between the most likely ancestral allele and the ad-hoc ancestral allele annotation.\u001B[0m\n"
     ]
    }
   ],
   "execution_count": 8
  },
  {
   "cell_type": "markdown",
   "metadata": {
    "collapsed": false,
    "jupyter": {
     "outputs_hidden": false
    }
   },
   "source": [
    "## Filtrations\n",
    "fastDFE also offers a number of filtrations which can be accessed immediately while parsing. Alternatively, to filter a VCF file directly, use the {class}`~fastdfe.filtration.Filterer` class. Some useful filtrations include {class}`~fastdfe.filtration.DeviantOutgroupFiltration`, {class}`~fastdfe.filtration.CodingSequenceFiltration`, and {class}`~fastdfe.filtration.BiasedGCConversionFiltration`. For a complete list of available filtrations, refer to the API reference."
   ]
  },
  {
   "cell_type": "code",
   "metadata": {
    "collapsed": false,
    "jupyter": {
     "outputs_hidden": false
    },
    "ExecuteTime": {
     "end_time": "2024-06-05T09:42:08.344579Z",
     "start_time": "2024-06-05T09:42:06.555812Z"
    }
   },
   "source": [
    "# example for filtration\n",
    "f = fd.Filterer(\n",
    "    vcf=url + \"resources/genome/betula/biallelic.subset.10000.vcf.gz?raw=true\",\n",
    "    filtrations=[fd.BiasedGCConversionFiltration()],\n",
    "    output=\"genome.gc.vcf.gz\"\n",
    ")\n",
    "\n",
    "f.filter()"
   ],
   "outputs": [
    {
     "name": "stderr",
     "output_type": "stream",
     "text": [
      "\u001B[32mINFO:Filterer: Start filtering\u001B[0m\n",
      "\u001B[32mINFO:Filterer: Loading VCF file\u001B[0m\n",
      "\u001B[32mINFO:FileHandler: Using cached file at /var/folders/w6/18ktl5312413jw46btlxrh59fzxvt4/T/7a41c74709e8.biallelic.subset.10000.vcf.gz\u001B[0m\n",
      "\u001B[32mINFO:FileHandler: Using cached file at /var/folders/w6/18ktl5312413jw46btlxrh59fzxvt4/T/7a41c74709e8.biallelic.subset.10000.vcf.gz\u001B[0m\n",
      "Filterer>Counting sites: 10000it [00:00, 33500.75it/s]\n",
      "Filterer>Processing sites: 100%|██████████| 10000/10000 [00:01<00:00, 6810.30it/s]\n",
      "\u001B[32mINFO:BiasedGCConversionFiltration: Filtered out 7903 sites.\u001B[0m\n",
      "\u001B[32mINFO:Filterer: Filtered out 7903 of 10000 sites in total.\u001B[0m\n"
     ]
    }
   ],
   "execution_count": 9
  },
  {
   "cell_type": "markdown",
   "metadata": {
    "collapsed": false,
    "jupyter": {
     "outputs_hidden": false
    }
   },
   "source": [
    "Note that all components can easily be customized by extending the corresponding base class."
   ]
  }
 ],
 "metadata": {
  "kernelspec": {
   "display_name": "Python 3 (ipykernel)",
   "language": "python",
   "name": "python3"
  },
  "language_info": {
   "codemirror_mode": {
    "name": "ipython",
    "version": 3
   },
   "file_extension": ".py",
   "mimetype": "text/x-python",
   "name": "python",
   "nbconvert_exporter": "python",
   "pygments_lexer": "ipython3",
   "version": "3.10.14"
  }
 },
 "nbformat": 4,
 "nbformat_minor": 4
}
